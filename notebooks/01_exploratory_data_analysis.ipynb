{
 "cells": [
  {
   "cell_type": "markdown",
   "metadata": {},
   "source": [
    "# House Price Prediction - Exploratory Data Analysis\n",
    "\n",
    "This notebook provides a comprehensive exploratory data analysis (EDA) of the synthetic house price dataset.\n",
    "\n",
    "## Table of Contents\n",
    "1. [Data Loading and Overview](#data-loading)\n",
    "2. [Data Quality Assessment](#data-quality)\n",
    "3. [Univariate Analysis](#univariate)\n",
    "4. [Bivariate Analysis](#bivariate)\n",
    "5. [Correlation Analysis](#correlation)\n",
    "6. [Feature Engineering Insights](#feature-engineering)\n",
    "7. [Key Findings](#findings)"
   ]
  },
  {
   "cell_type": "code",
   "execution_count": null,
   "metadata": {},
   "outputs": [],
   "source": [
    "# Import necessary libraries\n",
    "import pandas as pd\n",
    "import numpy as np\n",
    "import matplotlib.pyplot as plt\n",
    "import seaborn as sns\n",
    "import plotly.express as px\n",
    "import plotly.graph_objects as go\n",
    "from plotly.subplots import make_subplots\n",
    "import warnings\n",
    "warnings.filterwarnings('ignore')\n",
    "\n",
    "# Set style\n",
    "plt.style.use('seaborn-v0_8')\n",
    "sns.set_palette(\"husl\")\n",
    "\n",
    "# Display options\n",
    "pd.set_option('display.max_columns', None)\n",
    "pd.set_option('display.width', None)\n",
    "pd.set_option('display.max_colwidth', None)"
   ]
  },
  {
   "cell_type": "markdown",
   "metadata": {},
   "source": [
    "## 1. Data Loading and Overview {#data-loading}"
   ]
  },
  {
   "cell_type": "code",
   "execution_count": null,
   "metadata": {},
   "outputs": [],
   "source": [
    "# Load the dataset\n",
    "data = pd.read_excel('../data/house_data_more_logic.xlsx')\n",
    "\n",
    "print(f\"Dataset shape: {data.shape}\")\n",
    "print(f\"\\nDataset info:\")\n",
    "data.info()"
   ]
  },
  {
   "cell_type": "code",
   "execution_count": null,
   "metadata": {},
   "outputs": [],
   "source": [
    "# Display first few rows\n",
    "data.head(10)"
   ]
  },
  {
   "cell_type": "code",
   "execution_count": null,
   "metadata": {},
   "outputs": [],
   "source": [
    "# Statistical summary\n",
    "data.describe(include='all')"
   ]
  },
  {
   "cell_type": "markdown",
   "metadata": {},
   "source": [
    "## 2. Data Quality Assessment {#data-quality}"
   ]
  },
  {
   "cell_type": "code",
   "execution_count": null,
   "metadata": {},
   "outputs": [],
   "source": [
    "# Check for missing values\n",
    "missing_data = data.isnull().sum()\n",
    "missing_percentage = (missing_data / len(data)) * 100\n",
    "\n",
    "missing_df = pd.DataFrame({\n",
    "    'Missing Count': missing_data,\n",
    "    'Percentage': missing_percentage\n",
    "})\n",
    "\n",
    "print(\"Missing Values Analysis:\")\n",
    "print(missing_df[missing_df['Missing Count'] > 0])\n",
    "\n",
    "if missing_df['Missing Count'].sum() == 0:\n",
    "    print(\"✅ No missing values found in the dataset!\")"
   ]
  },
  {
   "cell_type": "code",
   "execution_count": null,
   "metadata": {},
   "outputs": [],
   "source": [
    "# Check for duplicates\n",
    "duplicates = data.duplicated().sum()\n",
    "print(f\"Number of duplicate rows: {duplicates}\")\n",
    "\n",
    "if duplicates == 0:\n",
    "    print(\"✅ No duplicate rows found!\")"
   ]
  },
  {
   "cell_type": "markdown",
   "metadata": {},
   "source": [
    "## 3. Univariate Analysis {#univariate}"
   ]
  },
  {
   "cell_type": "code",
   "execution_count": null,
   "metadata": {},
   "outputs": [],
   "source": [
    "# Analyze target variable (price)\n",
    "fig, axes = plt.subplots(2, 2, figsize=(15, 10))\n",
    "\n",
    "# Histogram\n",
    "axes[0,0].hist(data['price'], bins=30, alpha=0.7, color='skyblue', edgecolor='black')\n",
    "axes[0,0].set_title('Price Distribution')\n",
    "axes[0,0].set_xlabel('Price')\n",
    "axes[0,0].set_ylabel('Frequency')\n",
    "\n",
    "# Box plot\n",
    "axes[0,1].boxplot(data['price'])\n",
    "axes[0,1].set_title('Price Box Plot')\n",
    "axes[0,1].set_ylabel('Price')\n",
    "\n",
    "# Q-Q plot\n",
    "from scipy import stats\n",
    "stats.probplot(data['price'], dist=\"norm\", plot=axes[1,0])\n",
    "axes[1,0].set_title('Q-Q Plot (Price vs Normal Distribution)')\n",
    "\n",
    "# Log-transformed price\n",
    "log_price = np.log(data['price'])\n",
    "axes[1,1].hist(log_price, bins=30, alpha=0.7, color='lightcoral', edgecolor='black')\n",
    "axes[1,1].set_title('Log-Transformed Price Distribution')\n",
    "axes[1,1].set_xlabel('Log(Price)')\n",
    "axes[1,1].set_ylabel('Frequency')\n",
    "\n",
    "plt.tight_layout()\n",
    "plt.show()\n",
    "\n",
    "print(f\"Price Statistics:\")\n",
    "print(f\"Mean: ${data['price'].mean():,.2f}\")\n",
    "print(f\"Median: ${data['price'].median():,.2f}\")\n",
    "print(f\"Std: ${data['price'].std():,.2f}\")\n",
    "print(f\"Min: ${data['price'].min():,.2f}\")\n",
    "print(f\"Max: ${data['price'].max():,.2f}\")"
   ]
  },
  {
   "cell_type": "code",
   "execution_count": null,
   "metadata": {},
   "outputs": [],
   "source": [
    "# Analyze numerical features\n",
    "numerical_cols = ['num_rooms', 'surface', 'num_bathrooms', 'age_of_house', \n",
    "                  'proximity_to_city_center_km', 'garden_size_sqm']\n",
    "\n",
    "fig, axes = plt.subplots(2, 3, figsize=(18, 12))\n",
    "axes = axes.ravel()\n",
    "\n",
    "for i, col in enumerate(numerical_cols):\n",
    "    axes[i].hist(data[col], bins=20, alpha=0.7, edgecolor='black')\n",
    "    axes[i].set_title(f'{col.replace(\"_\", \" \").title()} Distribution')\n",
    "    axes[i].set_xlabel(col.replace(\"_\", \" \").title())\n",
    "    axes[i].set_ylabel('Frequency')\n",
    "\n",
    "plt.tight_layout()\n",
    "plt.show()"
   ]
  },
  {
   "cell_type": "code",
   "execution_count": null,
   "metadata": {},
   "outputs": [],
   "source": [
    "# Analyze categorical features\n",
    "categorical_cols = ['has_kitchen', 'neighborhood_quality', 'renovated', 'has_parking', 'property_type']\n",
    "\n",
    "fig, axes = plt.subplots(2, 3, figsize=(18, 10))\n",
    "axes = axes.ravel()\n",
    "\n",
    "for i, col in enumerate(categorical_cols):\n",
    "    if i < len(axes):\n",
    "        value_counts = data[col].value_counts()\n",
    "        axes[i].bar(value_counts.index.astype(str), value_counts.values, alpha=0.7)\n",
    "        axes[i].set_title(f'{col.replace(\"_\", \" \").title()} Distribution')\n",
    "        axes[i].set_xlabel(col.replace(\"_\", \" \").title())\n",
    "        axes[i].set_ylabel('Count')\n",
    "        \n",
    "        # Add value labels on bars\n",
    "        for j, v in enumerate(value_counts.values):\n",
    "            axes[i].text(j, v + 1, str(v), ha='center', va='bottom')\n",
    "\n",
    "# Remove empty subplot\n",
    "fig.delaxes(axes[5])\n",
    "\n",
    "plt.tight_layout()\n",
    "plt.show()"
   ]
  },
  {
   "cell_type": "markdown",
   "metadata": {},
   "source": [
    "## 4. Bivariate Analysis {#bivariate}"
   ]
  },
  {
   "cell_type": "code",
   "execution_count": null,
   "metadata": {},
   "outputs": [],
   "source": [
    "# Price vs numerical features\n",
    "fig, axes = plt.subplots(2, 3, figsize=(18, 12))\n",
    "axes = axes.ravel()\n",
    "\n",
    "for i, col in enumerate(numerical_cols):\n",
    "    axes[i].scatter(data[col], data['price'], alpha=0.6)\n",
    "    axes[i].set_xlabel(col.replace(\"_\", \" \").title())\n",
    "    axes[i].set_ylabel('Price')\n",
    "    axes[i].set_title(f'Price vs {col.replace(\"_\", \" \").title()}')\n",
    "    \n",
    "    # Add trend line\n",
    "    z = np.polyfit(data[col], data['price'], 1)\n",
    "    p = np.poly1d(z)\n",
    "    axes[i].plot(data[col], p(data[col]), \"r--\", alpha=0.8)\n",
    "\n",
    "plt.tight_layout()\n",
    "plt.show()"
   ]
  },
  {
   "cell_type": "code",
   "execution_count": null,
   "metadata": {},
   "outputs": [],
   "source": [
    "# Price vs categorical features (box plots)\n",
    "fig, axes = plt.subplots(2, 3, figsize=(18, 12))\n",
    "axes = axes.ravel()\n",
    "\n",
    "for i, col in enumerate(categorical_cols):\n",
    "    if i < len(axes):\n",
    "        data.boxplot(column='price', by=col, ax=axes[i])\n",
    "        axes[i].set_title(f'Price by {col.replace(\"_\", \" \").title()}')\n",
    "        axes[i].set_xlabel(col.replace(\"_\", \" \").title())\n",
    "        axes[i].set_ylabel('Price')\n",
    "\n",
    "# Remove empty subplot\n",
    "fig.delaxes(axes[5])\n",
    "\n",
    "plt.suptitle('')  # Remove automatic title\n",
    "plt.tight_layout()\n",
    "plt.show()"
   ]
  },
  {
   "cell_type": "markdown",
   "metadata": {},
   "source": [
    "## 5. Correlation Analysis {#correlation}"
   ]
  },
  {
   "cell_type": "code",
   "execution_count": null,
   "metadata": {},
   "outputs": [],
   "source": [
    "# Correlation matrix for numerical features\n",
    "numerical_data = data.select_dtypes(include=[np.number])\n",
    "correlation_matrix = numerical_data.corr()\n",
    "\n",
    "# Create correlation heatmap\n",
    "plt.figure(figsize=(12, 10))\n",
    "mask = np.triu(np.ones_like(correlation_matrix, dtype=bool))\n",
    "sns.heatmap(correlation_matrix, mask=mask, annot=True, cmap='coolwarm', center=0,\n",
    "            square=True, linewidths=0.5, cbar_kws={\"shrink\": .8})\n",
    "plt.title('Feature Correlation Matrix')\n",
    "plt.tight_layout()\n",
    "plt.show()\n",
    "\n",
    "# Show correlations with price (sorted)\n",
    "price_correlations = correlation_matrix['price'].drop('price').sort_values(key=abs, ascending=False)\n",
    "print(\"\\nCorrelations with Price (sorted by absolute value):\")\n",
    "for feature, corr in price_correlations.items():\n",
    "    print(f\"{feature:30s}: {corr:6.3f}\")"
   ]
  },
  {
   "cell_type": "markdown",
   "metadata": {},
   "source": [
    "## 6. Feature Engineering Insights {#feature-engineering}"
   ]
  },
  {
   "cell_type": "code",
   "execution_count": null,
   "metadata": {},
   "outputs": [],
   "source": [
    "# Create some derived features for analysis\n",
    "data_enhanced = data.copy()\n",
    "\n",
    "# Price per square meter\n",
    "data_enhanced['price_per_sqm'] = data_enhanced['price'] / data_enhanced['surface']\n",
    "\n",
    "# Room density (rooms per square meter)\n",
    "data_enhanced['room_density'] = data_enhanced['num_rooms'] / data_enhanced['surface']\n",
    "\n",
    "# Total rooms (bedrooms + bathrooms)\n",
    "data_enhanced['total_rooms'] = data_enhanced['num_rooms'] + data_enhanced['num_bathrooms']\n",
    "\n",
    "# Has garden (binary)\n",
    "data_enhanced['has_garden'] = (data_enhanced['garden_size_sqm'] > 0).astype(int)\n",
    "\n",
    "# Age categories\n",
    "data_enhanced['age_category'] = pd.cut(data_enhanced['age_of_house'], \n",
    "                                     bins=[0, 10, 25, 50], \n",
    "                                     labels=['New', 'Medium', 'Old'])\n",
    "\n",
    "print(\"Enhanced features created:\")\n",
    "print(\"- price_per_sqm: Price per square meter\")\n",
    "print(\"- room_density: Rooms per square meter\")\n",
    "print(\"- total_rooms: Total number of rooms\")\n",
    "print(\"- has_garden: Binary indicator for garden presence\")\n",
    "print(\"- age_category: Categorical age groups\")"
   ]
  },
  {
   "cell_type": "code",
   "execution_count": null,
   "metadata": {},
   "outputs": [],
   "source": [
    "# Analyze new features\n",
    "fig, axes = plt.subplots(2, 2, figsize=(15, 10))\n",
    "\n",
    "# Price per sqm by property type\n",
    "data_enhanced.boxplot(column='price_per_sqm', by='property_type', ax=axes[0,0])\n",
    "axes[0,0].set_title('Price per Sqm by Property Type')\n",
    "axes[0,0].set_xlabel('Property Type')\n",
    "\n",
    "# Price by age category\n",
    "data_enhanced.boxplot(column='price', by='age_category', ax=axes[0,1])\n",
    "axes[0,1].set_title('Price by Age Category')\n",
    "axes[0,1].set_xlabel('Age Category')\n",
    "\n",
    "# Price by garden presence\n",
    "data_enhanced.boxplot(column='price', by='has_garden', ax=axes[1,0])\n",
    "axes[1,0].set_title('Price by Garden Presence')\n",
    "axes[1,0].set_xlabel('Has Garden (0=No, 1=Yes)')\n",
    "\n",
    "# Room density vs price\n",
    "axes[1,1].scatter(data_enhanced['room_density'], data_enhanced['price'], alpha=0.6)\n",
    "axes[1,1].set_xlabel('Room Density')\n",
    "axes[1,1].set_ylabel('Price')\n",
    "axes[1,1].set_title('Price vs Room Density')\n",
    "\n",
    "plt.suptitle('')  # Remove automatic title\n",
    "plt.tight_layout()\n",
    "plt.show()"
   ]
  },
  {
   "cell_type": "markdown",
   "metadata": {},
   "source": [
    "## 7. Key Findings {#findings}"
   ]
  },
  {
   "cell_type": "code",
   "execution_count": null,
   "metadata": {},
   "outputs": [],
   "source": [
    "# Summary statistics by key categorical variables\n",
    "print(\"=\" * 60)\n",
    "print(\"KEY FINDINGS FROM EXPLORATORY DATA ANALYSIS\")\n",
    "print(\"=\" * 60)\n",
    "\n",
    "print(\"\\n1. PRICE DISTRIBUTION:\")\n",
    "print(f\"   - Mean price: ${data['price'].mean():,.0f}\")\n",
    "print(f\"   - Price range: ${data['price'].min():,.0f} - ${data['price'].max():,.0f}\")\n",
    "print(f\"   - Standard deviation: ${data['price'].std():,.0f}\")\n",
    "\n",
    "print(\"\\n2. STRONGEST PRICE PREDICTORS:\")\n",
    "top_correlations = price_correlations.head(5)\n",
    "for i, (feature, corr) in enumerate(top_correlations.items(), 1):\n",
    "    print(f\"   {i}. {feature.replace('_', ' ').title()}: {corr:.3f}\")\n",
    "\n",
    "print(\"\\n3. PROPERTY TYPE ANALYSIS:\")\n",
    "property_stats = data.groupby('property_type')['price'].agg(['mean', 'count'])\n",
    "for prop_type, stats in property_stats.iterrows():\n",
    "    print(f\"   - {prop_type}: Avg ${stats['mean']:,.0f} ({stats['count']} properties)\")\n",
    "\n",
    "print(\"\\n4. NEIGHBORHOOD QUALITY IMPACT:\")\n",
    "neighborhood_stats = data.groupby('neighborhood_quality')['price'].mean()\n",
    "quality_labels = {0: 'Low', 1: 'Medium', 2: 'High'}\n",
    "for quality, avg_price in neighborhood_stats.items():\n",
    "    print(f\"   - {quality_labels[quality]} Quality: Avg ${avg_price:,.0f}\")\n",
    "\n",
    "print(\"\\n5. RENOVATION IMPACT:\")\n",
    "renovation_stats = data.groupby('renovated')['price'].mean()\n",
    "renovation_labels = {0: 'Not Renovated', 1: 'Recently Renovated'}\n",
    "for status, avg_price in renovation_stats.items():\n",
    "    print(f\"   - {renovation_labels[status]}: Avg ${avg_price:,.0f}\")\n",
    "price_diff = renovation_stats[1] - renovation_stats[0]\n",
    "print(f\"   - Renovation premium: ${price_diff:,.0f}\")\n",
    "\n",
    "print(\"\\n6. DATA QUALITY:\")\n",
    "print(f\"   - Dataset size: {len(data)} properties\")\n",
    "print(f\"   - Missing values: {data.isnull().sum().sum()}\")\n",
    "print(f\"   - Duplicate rows: {data.duplicated().sum()}\")\n",
    "print(\"   - Data quality: Excellent ✅\")\n",
    "\n",
    "print(\"\\n\" + \"=\" * 60)"
   ]
  }
 ],
 "metadata": {
  "kernelspec": {
   "display_name": "Python 3",
   "language": "python",
   "name": "python3"
  },
  "language_info": {
   "codemirror_mode": {
    "name": "ipython",
    "version": 3
   },
   "file_extension": ".py",
   "mimetype": "text/x-python",
   "name": "python",
   "nbconvert_exporter": "python",
   "pygments_lexer": "ipython3",
   "version": "3.8.5"
  }
 },
 "nbformat": 4,
 "nbformat_minor": 4
}
